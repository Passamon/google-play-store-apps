{
 "cells": [
  {
   "cell_type": "markdown",
   "metadata": {},
   "source": [
    "# Google Play Store Apps"
   ]
  },
  {
   "cell_type": "markdown",
   "metadata": {},
   "source": [
    "<img src= \"https://i.ibb.co/LNmnk58/1-h-Dq-C5-H28uy-S3-Ic8m-Bm-Sul-Q.png\">"
   ]
  },
  {
   "cell_type": "markdown",
   "metadata": {},
   "source": [
    "### Neuro-linguistic programming (NLP) \n",
    "\n",
    "   is a psychological approach that involves analyzing strategies used by successful individuals and applying them to reach a personal goal. It relates thoughts, language, and patterns of behavior learned through experience to specific outcomes.\n",
    "\n",
    "https://www.goodtherapy.org/learn-about-therapy/types/neuro-linguistic-programming"
   ]
  },
  {
   "cell_type": "markdown",
   "metadata": {},
   "source": [
    "## Downloading the Dataset"
   ]
  },
  {
   "cell_type": "code",
   "execution_count": 1,
   "metadata": {},
   "outputs": [
    {
     "name": "stdout",
     "output_type": "stream",
     "text": [
      "Please provide your Kaggle credentials to download this dataset. Learn more: http://bit.ly/kaggle-creds\n",
      "Your Kaggle username: passamon\n",
      "Your Kaggle Key: ········\n",
      "Downloading google-play-store-apps.zip to .\\google-play-store-apps\n"
     ]
    },
    {
     "name": "stderr",
     "output_type": "stream",
     "text": [
      " 51%|█████▏    | 1.00M/1.94M [00:00<00:00, 3.77MB/s]"
     ]
    },
    {
     "name": "stdout",
     "output_type": "stream",
     "text": [
      "\n"
     ]
    },
    {
     "name": "stderr",
     "output_type": "stream",
     "text": [
      "100%|██████████| 1.94M/1.94M [00:00<00:00, 5.41MB/s]\n"
     ]
    }
   ],
   "source": [
    "import opendatasets as od\n",
    "dataset_url = 'https://www.kaggle.com/lava18/google-play-store-apps'\n",
    "od.download(dataset_url)"
   ]
  },
  {
   "cell_type": "code",
   "execution_count": 258,
   "metadata": {},
   "outputs": [],
   "source": [
    "data_dir = './google-play-store-apps'"
   ]
  },
  {
   "cell_type": "code",
   "execution_count": 259,
   "metadata": {},
   "outputs": [
    {
     "data": {
      "text/plain": [
       "['googleplaystore.csv', 'googleplaystore_user_reviews.csv', 'license.txt']"
      ]
     },
     "execution_count": 259,
     "metadata": {},
     "output_type": "execute_result"
    }
   ],
   "source": [
    "import os\n",
    "os.listdir(data_dir)"
   ]
  },
  {
   "cell_type": "markdown",
   "metadata": {},
   "source": [
    "## Data Preparation and Cleaning"
   ]
  },
  {
   "cell_type": "code",
   "execution_count": 260,
   "metadata": {},
   "outputs": [],
   "source": [
    "import pandas as pd\n",
    "import numpy as np"
   ]
  },
  {
   "cell_type": "code",
   "execution_count": 261,
   "metadata": {},
   "outputs": [
    {
     "data": {
      "text/html": [
       "<div>\n",
       "<style scoped>\n",
       "    .dataframe tbody tr th:only-of-type {\n",
       "        vertical-align: middle;\n",
       "    }\n",
       "\n",
       "    .dataframe tbody tr th {\n",
       "        vertical-align: top;\n",
       "    }\n",
       "\n",
       "    .dataframe thead th {\n",
       "        text-align: right;\n",
       "    }\n",
       "</style>\n",
       "<table border=\"1\" class=\"dataframe\">\n",
       "  <thead>\n",
       "    <tr style=\"text-align: right;\">\n",
       "      <th></th>\n",
       "      <th>App</th>\n",
       "      <th>Translated_Review</th>\n",
       "      <th>Sentiment</th>\n",
       "      <th>Sentiment_Polarity</th>\n",
       "      <th>Sentiment_Subjectivity</th>\n",
       "    </tr>\n",
       "  </thead>\n",
       "  <tbody>\n",
       "    <tr>\n",
       "      <th>0</th>\n",
       "      <td>10 Best Foods for You</td>\n",
       "      <td>I like eat delicious food. That's I'm cooking ...</td>\n",
       "      <td>Positive</td>\n",
       "      <td>1.00</td>\n",
       "      <td>0.533333</td>\n",
       "    </tr>\n",
       "    <tr>\n",
       "      <th>1</th>\n",
       "      <td>10 Best Foods for You</td>\n",
       "      <td>This help eating healthy exercise regular basis</td>\n",
       "      <td>Positive</td>\n",
       "      <td>0.25</td>\n",
       "      <td>0.288462</td>\n",
       "    </tr>\n",
       "    <tr>\n",
       "      <th>2</th>\n",
       "      <td>10 Best Foods for You</td>\n",
       "      <td>NaN</td>\n",
       "      <td>NaN</td>\n",
       "      <td>NaN</td>\n",
       "      <td>NaN</td>\n",
       "    </tr>\n",
       "    <tr>\n",
       "      <th>3</th>\n",
       "      <td>10 Best Foods for You</td>\n",
       "      <td>Works great especially going grocery store</td>\n",
       "      <td>Positive</td>\n",
       "      <td>0.40</td>\n",
       "      <td>0.875000</td>\n",
       "    </tr>\n",
       "    <tr>\n",
       "      <th>4</th>\n",
       "      <td>10 Best Foods for You</td>\n",
       "      <td>Best idea us</td>\n",
       "      <td>Positive</td>\n",
       "      <td>1.00</td>\n",
       "      <td>0.300000</td>\n",
       "    </tr>\n",
       "    <tr>\n",
       "      <th>...</th>\n",
       "      <td>...</td>\n",
       "      <td>...</td>\n",
       "      <td>...</td>\n",
       "      <td>...</td>\n",
       "      <td>...</td>\n",
       "    </tr>\n",
       "    <tr>\n",
       "      <th>64290</th>\n",
       "      <td>Houzz Interior Design Ideas</td>\n",
       "      <td>NaN</td>\n",
       "      <td>NaN</td>\n",
       "      <td>NaN</td>\n",
       "      <td>NaN</td>\n",
       "    </tr>\n",
       "    <tr>\n",
       "      <th>64291</th>\n",
       "      <td>Houzz Interior Design Ideas</td>\n",
       "      <td>NaN</td>\n",
       "      <td>NaN</td>\n",
       "      <td>NaN</td>\n",
       "      <td>NaN</td>\n",
       "    </tr>\n",
       "    <tr>\n",
       "      <th>64292</th>\n",
       "      <td>Houzz Interior Design Ideas</td>\n",
       "      <td>NaN</td>\n",
       "      <td>NaN</td>\n",
       "      <td>NaN</td>\n",
       "      <td>NaN</td>\n",
       "    </tr>\n",
       "    <tr>\n",
       "      <th>64293</th>\n",
       "      <td>Houzz Interior Design Ideas</td>\n",
       "      <td>NaN</td>\n",
       "      <td>NaN</td>\n",
       "      <td>NaN</td>\n",
       "      <td>NaN</td>\n",
       "    </tr>\n",
       "    <tr>\n",
       "      <th>64294</th>\n",
       "      <td>Houzz Interior Design Ideas</td>\n",
       "      <td>NaN</td>\n",
       "      <td>NaN</td>\n",
       "      <td>NaN</td>\n",
       "      <td>NaN</td>\n",
       "    </tr>\n",
       "  </tbody>\n",
       "</table>\n",
       "<p>64295 rows × 5 columns</p>\n",
       "</div>"
      ],
      "text/plain": [
       "                               App  \\\n",
       "0            10 Best Foods for You   \n",
       "1            10 Best Foods for You   \n",
       "2            10 Best Foods for You   \n",
       "3            10 Best Foods for You   \n",
       "4            10 Best Foods for You   \n",
       "...                            ...   \n",
       "64290  Houzz Interior Design Ideas   \n",
       "64291  Houzz Interior Design Ideas   \n",
       "64292  Houzz Interior Design Ideas   \n",
       "64293  Houzz Interior Design Ideas   \n",
       "64294  Houzz Interior Design Ideas   \n",
       "\n",
       "                                       Translated_Review Sentiment  \\\n",
       "0      I like eat delicious food. That's I'm cooking ...  Positive   \n",
       "1        This help eating healthy exercise regular basis  Positive   \n",
       "2                                                    NaN       NaN   \n",
       "3             Works great especially going grocery store  Positive   \n",
       "4                                           Best idea us  Positive   \n",
       "...                                                  ...       ...   \n",
       "64290                                                NaN       NaN   \n",
       "64291                                                NaN       NaN   \n",
       "64292                                                NaN       NaN   \n",
       "64293                                                NaN       NaN   \n",
       "64294                                                NaN       NaN   \n",
       "\n",
       "       Sentiment_Polarity  Sentiment_Subjectivity  \n",
       "0                    1.00                0.533333  \n",
       "1                    0.25                0.288462  \n",
       "2                     NaN                     NaN  \n",
       "3                    0.40                0.875000  \n",
       "4                    1.00                0.300000  \n",
       "...                   ...                     ...  \n",
       "64290                 NaN                     NaN  \n",
       "64291                 NaN                     NaN  \n",
       "64292                 NaN                     NaN  \n",
       "64293                 NaN                     NaN  \n",
       "64294                 NaN                     NaN  \n",
       "\n",
       "[64295 rows x 5 columns]"
      ]
     },
     "execution_count": 261,
     "metadata": {},
     "output_type": "execute_result"
    }
   ],
   "source": [
    "googleplaystore_user_reviews = pd.read_csv('google-play-store-apps/googleplaystore_user_reviews.csv')\n",
    "googleplaystore_user_reviews"
   ]
  },
  {
   "cell_type": "code",
   "execution_count": 262,
   "metadata": {},
   "outputs": [],
   "source": [
    "apps = googleplaystore_user_reviews"
   ]
  },
  {
   "cell_type": "markdown",
   "metadata": {},
   "source": [
    " - Clean data\n",
    " - Replace the null with some word. In this case, I replace it with a blank word."
   ]
  },
  {
   "cell_type": "code",
   "execution_count": 276,
   "metadata": {
    "scrolled": false
   },
   "outputs": [
    {
     "data": {
      "text/html": [
       "<div>\n",
       "<style scoped>\n",
       "    .dataframe tbody tr th:only-of-type {\n",
       "        vertical-align: middle;\n",
       "    }\n",
       "\n",
       "    .dataframe tbody tr th {\n",
       "        vertical-align: top;\n",
       "    }\n",
       "\n",
       "    .dataframe thead th {\n",
       "        text-align: right;\n",
       "    }\n",
       "</style>\n",
       "<table border=\"1\" class=\"dataframe\">\n",
       "  <thead>\n",
       "    <tr style=\"text-align: right;\">\n",
       "      <th></th>\n",
       "      <th>App</th>\n",
       "      <th>Translated_Review</th>\n",
       "      <th>Sentiment</th>\n",
       "      <th>Sentiment_Polarity</th>\n",
       "      <th>Sentiment_Subjectivity</th>\n",
       "      <th>text</th>\n",
       "    </tr>\n",
       "  </thead>\n",
       "  <tbody>\n",
       "    <tr>\n",
       "      <th>0</th>\n",
       "      <td>10 Best Foods for You</td>\n",
       "      <td>I like eat delicious food. That's I'm cooking ...</td>\n",
       "      <td>Positive</td>\n",
       "      <td>1</td>\n",
       "      <td>0.533333</td>\n",
       "      <td>I like eat delicious food. That's I'm cooking ...</td>\n",
       "    </tr>\n",
       "    <tr>\n",
       "      <th>200</th>\n",
       "      <td>104 找工作 - 找工作 找打工 找兼職 履歷健檢 履歷診療室</td>\n",
       "      <td>GreatniceAlmost mobile phoneVery effective, ef...</td>\n",
       "      <td>Positive</td>\n",
       "      <td>0.8</td>\n",
       "      <td>0.75</td>\n",
       "      <td>GreatniceAlmost mobile phoneVery effective, ef...</td>\n",
       "    </tr>\n",
       "    <tr>\n",
       "      <th>240</th>\n",
       "      <td>11st</td>\n",
       "      <td>Horrible ID verificationEasy even basic Korean...</td>\n",
       "      <td>Negative</td>\n",
       "      <td>-1</td>\n",
       "      <td>1</td>\n",
       "      <td>Horrible ID verificationEasy even basic Korean...</td>\n",
       "    </tr>\n",
       "    <tr>\n",
       "      <th>280</th>\n",
       "      <td>1800 Contacts - Lens Store</td>\n",
       "      <td>Great hassle free way order contacts. Got call...</td>\n",
       "      <td>Positive</td>\n",
       "      <td>0.6</td>\n",
       "      <td>0.775</td>\n",
       "      <td>Great hassle free way order contacts. Got call...</td>\n",
       "    </tr>\n",
       "    <tr>\n",
       "      <th>360</th>\n",
       "      <td>1LINE – One Line with One Touch</td>\n",
       "      <td>gets 1* there's ad every single level restart,...</td>\n",
       "      <td>Negative</td>\n",
       "      <td>-0.157143</td>\n",
       "      <td>0.704762</td>\n",
       "      <td>gets 1* there's ad every single level restart,...</td>\n",
       "    </tr>\n",
       "    <tr>\n",
       "      <th>...</th>\n",
       "      <td>...</td>\n",
       "      <td>...</td>\n",
       "      <td>...</td>\n",
       "      <td>...</td>\n",
       "      <td>...</td>\n",
       "      <td>...</td>\n",
       "    </tr>\n",
       "    <tr>\n",
       "      <th>64076</th>\n",
       "      <td>Hotspot Shield Free VPN Proxy &amp; Wi-Fi Security</td>\n",
       "      <td>7 days free trial asking credit card. Stupid!!...</td>\n",
       "      <td>Negative</td>\n",
       "      <td>-0.3</td>\n",
       "      <td>0.9</td>\n",
       "      <td>7 days free trial asking credit card. Stupid!!...</td>\n",
       "    </tr>\n",
       "    <tr>\n",
       "      <th>64116</th>\n",
       "      <td>Hotstar</td>\n",
       "      <td>runningBestYou great collection shows movies. ...</td>\n",
       "      <td>Neutral</td>\n",
       "      <td>0</td>\n",
       "      <td>0</td>\n",
       "      <td>runningBestYou great collection shows movies. ...</td>\n",
       "    </tr>\n",
       "    <tr>\n",
       "      <th>64156</th>\n",
       "      <td>Hotwire Hotel &amp; Car Rental App</td>\n",
       "      <td>The worthless. It allow see information would ...</td>\n",
       "      <td></td>\n",
       "      <td></td>\n",
       "      <td></td>\n",
       "      <td>The worthless. It allow see information would ...</td>\n",
       "    </tr>\n",
       "    <tr>\n",
       "      <th>64196</th>\n",
       "      <td>Housing-Real Estate &amp; Property</td>\n",
       "      <td>Incorrect listings. The agents show property d...</td>\n",
       "      <td>Negative</td>\n",
       "      <td>-0.025</td>\n",
       "      <td>0.125</td>\n",
       "      <td>Incorrect listings. The agents show property d...</td>\n",
       "    </tr>\n",
       "    <tr>\n",
       "      <th>64236</th>\n",
       "      <td>Houzz Interior Design Ideas</td>\n",
       "      <td></td>\n",
       "      <td></td>\n",
       "      <td></td>\n",
       "      <td></td>\n",
       "      <td></td>\n",
       "    </tr>\n",
       "  </tbody>\n",
       "</table>\n",
       "<p>1074 rows × 6 columns</p>\n",
       "</div>"
      ],
      "text/plain": [
       "                                                  App  \\\n",
       "0                               10 Best Foods for You   \n",
       "200                  104 找工作 - 找工作 找打工 找兼職 履歷健檢 履歷診療室   \n",
       "240                                              11st   \n",
       "280                        1800 Contacts - Lens Store   \n",
       "360                   1LINE – One Line with One Touch   \n",
       "...                                               ...   \n",
       "64076  Hotspot Shield Free VPN Proxy & Wi-Fi Security   \n",
       "64116                                         Hotstar   \n",
       "64156                  Hotwire Hotel & Car Rental App   \n",
       "64196                  Housing-Real Estate & Property   \n",
       "64236                     Houzz Interior Design Ideas   \n",
       "\n",
       "                                       Translated_Review Sentiment  \\\n",
       "0      I like eat delicious food. That's I'm cooking ...  Positive   \n",
       "200    GreatniceAlmost mobile phoneVery effective, ef...  Positive   \n",
       "240    Horrible ID verificationEasy even basic Korean...  Negative   \n",
       "280    Great hassle free way order contacts. Got call...  Positive   \n",
       "360    gets 1* there's ad every single level restart,...  Negative   \n",
       "...                                                  ...       ...   \n",
       "64076  7 days free trial asking credit card. Stupid!!...  Negative   \n",
       "64116  runningBestYou great collection shows movies. ...   Neutral   \n",
       "64156  The worthless. It allow see information would ...             \n",
       "64196  Incorrect listings. The agents show property d...  Negative   \n",
       "64236                                                                \n",
       "\n",
       "      Sentiment_Polarity Sentiment_Subjectivity  \\\n",
       "0                      1               0.533333   \n",
       "200                  0.8                   0.75   \n",
       "240                   -1                      1   \n",
       "280                  0.6                  0.775   \n",
       "360            -0.157143               0.704762   \n",
       "...                  ...                    ...   \n",
       "64076               -0.3                    0.9   \n",
       "64116                  0                      0   \n",
       "64156                                             \n",
       "64196             -0.025                  0.125   \n",
       "64236                                             \n",
       "\n",
       "                                                    text  \n",
       "0      I like eat delicious food. That's I'm cooking ...  \n",
       "200    GreatniceAlmost mobile phoneVery effective, ef...  \n",
       "240    Horrible ID verificationEasy even basic Korean...  \n",
       "280    Great hassle free way order contacts. Got call...  \n",
       "360    gets 1* there's ad every single level restart,...  \n",
       "...                                                  ...  \n",
       "64076  7 days free trial asking credit card. Stupid!!...  \n",
       "64116  runningBestYou great collection shows movies. ...  \n",
       "64156  The worthless. It allow see information would ...  \n",
       "64196  Incorrect listings. The agents show property d...  \n",
       "64236                                                     \n",
       "\n",
       "[1074 rows x 6 columns]"
      ]
     },
     "execution_count": 276,
     "metadata": {},
     "output_type": "execute_result"
    }
   ],
   "source": [
    "# apps.drop([2,7,15])\n",
    "apps['Translated_Review'] = apps['Translated_Review'].fillna('')\n",
    "apps['Sentiment'] = apps['Sentiment'].fillna('')\n",
    "apps['Sentiment_Polarity'] = apps['Sentiment_Polarity'].fillna('')\n",
    "apps['Sentiment_Subjectivity'] = apps['Sentiment_Subjectivity'].fillna('')\n",
    "\n",
    "last_word = ''\n",
    "initial_word_index = 0\n",
    "index = 0\n",
    "remove_index_list = []\n",
    "\n",
    "for word in apps['App']:\n",
    "    \n",
    "    if word == last_word:\n",
    "        apps['Translated_Review'][initial_word_index] = apps['Translated_Review'][initial_word_index] + apps['Translated_Review'][index]\n",
    "        remove_index_list.append(index)\n",
    "    else:\n",
    "        initial_word_index = index\n",
    "        \n",
    "    last_word = word\n",
    "    index = index + 1\n",
    "    \n",
    "apps = apps.drop(remove_index_list)\n",
    "apps\n",
    "        "
   ]
  },
  {
   "cell_type": "code",
   "execution_count": 264,
   "metadata": {},
   "outputs": [],
   "source": [
    "apps[\"text\"] = apps[\"Translated_Review\"]"
   ]
  },
  {
   "cell_type": "markdown",
   "metadata": {},
   "source": [
    "# Train Model"
   ]
  },
  {
   "cell_type": "markdown",
   "metadata": {},
   "source": [
    "<img src=\"https://i.ibb.co/KXY6D4k/NLP.jpg\">"
   ]
  },
  {
   "cell_type": "code",
   "execution_count": 265,
   "metadata": {},
   "outputs": [],
   "source": [
    "from sklearn.feature_extraction.text import TfidfVectorizer\n",
    "from sklearn.metrics.pairwise import linear_kernel, cosine_similarity\n",
    "\n",
    "tf = TfidfVectorizer(analyzer='word',ngram_range=(1, 2),min_df=0, stop_words='english')\n",
    "tfidf_matrix = tf.fit_transform(apps[\"text\"].values.astype('U'))\n",
    "\n",
    "cosine_sim = linear_kernel(tfidf_matrix, tfidf_matrix)"
   ]
  },
  {
   "cell_type": "code",
   "execution_count": 266,
   "metadata": {},
   "outputs": [],
   "source": [
    "titles = apps[\"App\"]\n",
    "indices = pd.Series(apps.index, index=apps[\"App\"])"
   ]
  },
  {
   "cell_type": "code",
   "execution_count": 267,
   "metadata": {},
   "outputs": [],
   "source": [
    "def get_app_review(app_name):\n",
    "    index = 0\n",
    "    \n",
    "    for word in apps['App']:\n",
    "        if word == app_name:\n",
    "            return [index]\n",
    "        \n",
    "        index = index + 1\n",
    "\n",
    "\n",
    "def get_recommendations(app_name):\n",
    "    id = get_app_review(app_name)\n",
    "    sim_scores = []\n",
    "    for idx in id:\n",
    "        sim_scores = sim_scores + list(enumerate(cosine_sim[idx]))\n",
    "        sim_scores = sorted(sim_scores, key=lambda x: x[1], reverse=True)\n",
    "        app_indices = [i[0] for i in sim_scores]\n",
    "    return titles.iloc[app_indices][len(id):]\n"
   ]
  },
  {
   "cell_type": "code",
   "execution_count": 279,
   "metadata": {
    "scrolled": false
   },
   "outputs": [
    {
     "data": {
      "text/plain": [
       "63996    Hotels.com: Book Hotel Rooms & Find Vacation D...\n",
       "63776     HotelTonight: Book amazing deals at great hotels\n",
       "16767                             Booking.com Travel Deals\n",
       "63956                        Hotels Combined - Cheap deals\n",
       "25258          Cheap hotel deals and discounts — Hotellook\n",
       "64156                       Hotwire Hotel & Car Rental App\n",
       "4752                           Agoda – Hotel Booking Deals\n",
       "54182     Goibibo - Flight Hotel Bus Car IRCTC Booking App\n",
       "46878                   Flight & Hotel Booking App - ixigo\n",
       "20567                                            CWT To Go\n",
       "Name: App, dtype: object"
      ]
     },
     "execution_count": 279,
     "metadata": {},
     "output_type": "execute_result"
    }
   ],
   "source": [
    "get_recommendations(\"Expedia Hotels, Flights & Car Rental Travel Deals\").head(10)"
   ]
  },
  {
   "cell_type": "code",
   "execution_count": null,
   "metadata": {},
   "outputs": [],
   "source": []
  }
 ],
 "metadata": {
  "kernelspec": {
   "display_name": "Python 3",
   "language": "python",
   "name": "python3"
  },
  "language_info": {
   "codemirror_mode": {
    "name": "ipython",
    "version": 3
   },
   "file_extension": ".py",
   "mimetype": "text/x-python",
   "name": "python",
   "nbconvert_exporter": "python",
   "pygments_lexer": "ipython3",
   "version": "3.7.4"
  }
 },
 "nbformat": 4,
 "nbformat_minor": 2
}
